{
 "cells": [
  {
   "cell_type": "code",
   "execution_count": 7,
   "metadata": {},
   "outputs": [],
   "source": [
    "%matplotlib inline\n",
    "import matplotlib.pyplot as plt\n",
    "import numpy as np\n",
    "import glob\n",
    "import ataxx_rules\n",
    "import engine\n",
    "import model\n",
    "import train"
   ]
  },
  {
   "cell_type": "markdown",
   "metadata": {},
   "source": [
    "## Working on MCTS"
   ]
  },
  {
   "cell_type": "code",
   "execution_count": 2,
   "metadata": {},
   "outputs": [
    {
     "name": "stdout",
     "output_type": "stream",
     "text": [
      "WARNING:tensorflow:From /usr/local/lib/python2.7/dist-packages/tensorflow/python/util/tf_should_use.py:118: initialize_all_variables (from tensorflow.python.ops.variables) is deprecated and will be removed after 2017-03-02.\n",
      "Instructions for updating:\n",
      "Use `tf.global_variables_initializer` instead.\n"
     ]
    }
   ],
   "source": [
    "engine.initialize_model(\"models/model-001.npy\")\n",
    "engine.setup_evaluator()"
   ]
  },
  {
   "cell_type": "code",
   "execution_count": 3,
   "metadata": {},
   "outputs": [],
   "source": [
    "board = ataxx_rules.AtaxxState.initial()\n",
    "mcts = engine.MCTS(board)"
   ]
  },
  {
   "cell_type": "code",
   "execution_count": 18,
   "metadata": {},
   "outputs": [
    {
     "data": {
      "text/plain": [
       "<engine.MCTSEdge instance at 0x7fd7cc268d40>"
      ]
     },
     "execution_count": 18,
     "metadata": {},
     "output_type": "execute_result"
    }
   ],
   "source": [
    "mcts.step()"
   ]
  },
  {
   "cell_type": "code",
   "execution_count": 19,
   "metadata": {},
   "outputs": [
    {
     "data": {
      "text/plain": [
       "0.53505620080977678"
      ]
     },
     "execution_count": 19,
     "metadata": {},
     "output_type": "execute_result"
    }
   ],
   "source": [
    "mcts.root_node.outgoing_edges.values()[0].get_edge_score()"
   ]
  },
  {
   "cell_type": "code",
   "execution_count": 20,
   "metadata": {},
   "outputs": [
    {
     "data": {
      "text/plain": [
       "6"
      ]
     },
     "execution_count": 20,
     "metadata": {},
     "output_type": "execute_result"
    }
   ],
   "source": [
    "len(mcts.root_node.outgoing_edges)"
   ]
  },
  {
   "cell_type": "markdown",
   "metadata": {},
   "source": [
    "## Working on the lack of value convergence."
   ]
  },
  {
   "cell_type": "code",
   "execution_count": 2,
   "metadata": {},
   "outputs": [],
   "source": [
    "entries = train.load_entries(glob.glob(\"games/random-play/*.json\"))"
   ]
  },
  {
   "cell_type": "code",
   "execution_count": 11,
   "metadata": {},
   "outputs": [],
   "source": [
    "s = [train.get_sample_from_entries(entries)[2][0] for _ in xrange(10000)]"
   ]
  },
  {
   "cell_type": "code",
   "execution_count": 14,
   "metadata": {},
   "outputs": [
    {
     "data": {
      "text/plain": [
       "4904"
      ]
     },
     "execution_count": 14,
     "metadata": {},
     "output_type": "execute_result"
    }
   ],
   "source": [
    "s.count(-1)"
   ]
  },
  {
   "cell_type": "code",
   "execution_count": 12,
   "metadata": {},
   "outputs": [
    {
     "data": {
      "text/plain": [
       "0.9996313600000003"
      ]
     },
     "execution_count": 12,
     "metadata": {},
     "output_type": "execute_result"
    }
   ],
   "source": [
    "np.var(s)"
   ]
  },
  {
   "cell_type": "code",
   "execution_count": 141,
   "metadata": {},
   "outputs": [
    {
     "data": {
      "text/plain": [
       "<matplotlib.image.AxesImage at 0x7ff30f2a5210>"
      ]
     },
     "execution_count": 141,
     "metadata": {},
     "output_type": "execute_result"
    },
    {
     "data": {
      "image/png": "[encoded data removed]",
      "text/plain": [
       "<matplotlib.figure.Figure at 0x7ff30f5ccdd0>"
      ]
     },
     "metadata": {},
     "output_type": "display_data"
    }
   ],
   "source": [
    "sample = train.get_sample_from_entries2(entries)\n",
    "\n",
    "plt.matshow(sample[0][0][:,:,1] - sample[0][0][:,:,2])"
   ]
  },
  {
   "cell_type": "code",
   "execution_count": 142,
   "metadata": {},
   "outputs": [
    {
     "data": {
      "text/plain": [
       "(315,\n",
       " 83,\n",
       " 2,\n",
       " <ataxx_rules.AtaxxState instance at 0x7ff30f4ec710>,\n",
       " [[1, 3], [1, 1]])"
      ]
     },
     "execution_count": 142,
     "metadata": {},
     "output_type": "execute_result"
    }
   ],
   "source": [
    "sample[1:]"
   ]
  },
  {
   "cell_type": "code",
   "execution_count": 152,
   "metadata": {},
   "outputs": [
    {
     "name": "stdout",
     "output_type": "stream",
     "text": [
      "\u001b[94mO\u001b[0m \u001b[94mO\u001b[0m \u001b[94mO\u001b[0m \u001b[91mX\u001b[0m \u001b[91mX\u001b[0m \u001b[91mX\u001b[0m \u001b[91mX\u001b[0m\n",
      ". \u001b[94mO\u001b[0m \u001b[94mO\u001b[0m \u001b[91mX\u001b[0m \u001b[91mX\u001b[0m \u001b[91mX\u001b[0m \u001b[91mX\u001b[0m\n",
      ". \u001b[94mO\u001b[0m \u001b[94mO\u001b[0m # \u001b[94mO\u001b[0m \u001b[94mO\u001b[0m \u001b[94mO\u001b[0m\n",
      "\u001b[94mO\u001b[0m . # \u001b[91mX\u001b[0m # \u001b[94mO\u001b[0m \u001b[94mO\u001b[0m\n",
      "\u001b[94mO\u001b[0m \u001b[94mO\u001b[0m \u001b[94mO\u001b[0m # \u001b[94mO\u001b[0m \u001b[94mO\u001b[0m \u001b[94mO\u001b[0m\n",
      "\u001b[91mX\u001b[0m \u001b[91mX\u001b[0m \u001b[94mO\u001b[0m \u001b[94mO\u001b[0m \u001b[94mO\u001b[0m \u001b[94mO\u001b[0m .\n",
      "\u001b[91mX\u001b[0m \u001b[91mX\u001b[0m . \u001b[94mO\u001b[0m \u001b[94mO\u001b[0m \u001b[94mO\u001b[0m \u001b[94mO\u001b[0m\n"
     ]
    },
    {
     "data": {
      "image/png": "[encoded data removed]",
      "text/plain": [
       "<matplotlib.figure.Figure at 0x7ff30f0c94d0>"
      ]
     },
     "metadata": {},
     "output_type": "display_data"
    }
   ],
   "source": [
    "ent_ind = 190\n",
    "ply_ind = 123\n",
    "entry = entries[ent_ind]\n",
    "to_move = 1 if ply_ind % 2 == 0 else 2\n",
    "board = ataxx_rules.AtaxxState(entry[\"boards\"][ply_ind], to_move=to_move)\n",
    "arr = engine.board_to_features(board)\n",
    "plt.matshow(arr[:,:,1] - arr[:,:,2])\n",
    "print board"
   ]
  },
  {
   "cell_type": "code",
   "execution_count": 92,
   "metadata": {},
   "outputs": [
    {
     "name": "stdout",
     "output_type": "stream",
     "text": [
      "\u001b[94mO\u001b[0m \u001b[94mO\u001b[0m \u001b[94mO\u001b[0m \u001b[91mX\u001b[0m \u001b[91mX\u001b[0m \u001b[91mX\u001b[0m \u001b[91mX\u001b[0m\n",
      ". \u001b[94mO\u001b[0m \u001b[94mO\u001b[0m \u001b[91mX\u001b[0m \u001b[91mX\u001b[0m \u001b[91mX\u001b[0m \u001b[91mX\u001b[0m\n",
      ". \u001b[94mO\u001b[0m \u001b[94mO\u001b[0m # \u001b[94mO\u001b[0m \u001b[94mO\u001b[0m \u001b[94mO\u001b[0m\n",
      "\u001b[94mO\u001b[0m . # \u001b[91mX\u001b[0m # \u001b[94mO\u001b[0m \u001b[94mO\u001b[0m\n",
      "\u001b[94mO\u001b[0m \u001b[94mO\u001b[0m \u001b[94mO\u001b[0m # \u001b[94mO\u001b[0m \u001b[94mO\u001b[0m \u001b[94mO\u001b[0m\n",
      "\u001b[91mX\u001b[0m \u001b[91mX\u001b[0m \u001b[94mO\u001b[0m \u001b[94mO\u001b[0m \u001b[94mO\u001b[0m \u001b[94mO\u001b[0m .\n",
      "\u001b[91mX\u001b[0m \u001b[91mX\u001b[0m . \u001b[94mO\u001b[0m \u001b[94mO\u001b[0m \u001b[94mO\u001b[0m \u001b[94mO\u001b[0m\n"
     ]
    }
   ],
   "source": [
    "print sample[4]"
   ]
  },
  {
   "cell_type": "markdown",
   "metadata": {},
   "source": [
    "## Padding.\n",
    "\n",
    ".\n",
    "\n",
    ".\n",
    "\n",
    ".\n",
    "\n",
    ".\n",
    "\n",
    ".\n",
    "\n",
    ".\n",
    "\n",
    ".\n",
    "\n",
    ".\n",
    "\n",
    ".\n",
    "\n",
    ".\n",
    "\n",
    ".\n",
    "\n",
    ".\n",
    "\n",
    ".\n",
    "\n",
    ".\n",
    "\n",
    "."
   ]
  }
 ],
 "metadata": {
  "kernelspec": {
   "display_name": "Python 2",
   "language": "python",
   "name": "python2"
  },
  "language_info": {
   "codemirror_mode": {
    "name": "ipython",
    "version": 2
   },
   "file_extension": ".py",
   "mimetype": "text/x-python",
   "name": "python",
   "nbconvert_exporter": "python",
   "pygments_lexer": "ipython2",
   "version": "2.7.13"
  }
 },
 "nbformat": 4,
 "nbformat_minor": 2
}
